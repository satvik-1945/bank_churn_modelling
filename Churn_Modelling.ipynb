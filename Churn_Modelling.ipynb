{
  "nbformat": 4,
  "nbformat_minor": 0,
  "metadata": {
    "colab": {
      "provenance": []
    },
    "kernelspec": {
      "name": "python3",
      "display_name": "Python 3"
    },
    "language_info": {
      "name": "python"
    }
  },
  "cells": [
    {
      "cell_type": "markdown",
      "source": [
        "# Importing Important Libraries"
      ],
      "metadata": {
        "id": "gt3QvVEe45dS"
      }
    },
    {
      "cell_type": "code",
      "execution_count": 1,
      "metadata": {
        "id": "FbLuClLM4q7I"
      },
      "outputs": [],
      "source": [
        "import numpy as np\n",
        "import matplotlib.pyplot as plt\n",
        "import pandas as pd\n"
      ]
    },
    {
      "cell_type": "code",
      "source": [
        "dataset = pd.read_csv('/content/drive/MyDrive/Colab Notebooks/Churn Modelling/Churn_Modelling.csv')\n",
        "dataset.head()"
      ],
      "metadata": {
        "colab": {
          "base_uri": "https://localhost:8080/",
          "height": 206
        },
        "id": "jlDRWdPm5yaP",
        "outputId": "98bb171c-80cf-4f2b-acb8-d0bab6f3ed43"
      },
      "execution_count": 2,
      "outputs": [
        {
          "output_type": "execute_result",
          "data": {
            "text/plain": [
              "   RowNumber  CustomerId   Surname  CreditScore Geography  Gender  Age  \\\n",
              "0          1    15634602  Hargrave          619    France  Female   42   \n",
              "1          2    15647311      Hill          608     Spain  Female   41   \n",
              "2          3    15619304      Onio          502    France  Female   42   \n",
              "3          4    15701354      Boni          699    France  Female   39   \n",
              "4          5    15737888  Mitchell          850     Spain  Female   43   \n",
              "\n",
              "   Tenure    Balance  NumOfProducts  HasCrCard  IsActiveMember  \\\n",
              "0       2       0.00              1          1               1   \n",
              "1       1   83807.86              1          0               1   \n",
              "2       8  159660.80              3          1               0   \n",
              "3       1       0.00              2          0               0   \n",
              "4       2  125510.82              1          1               1   \n",
              "\n",
              "   EstimatedSalary  Exited  \n",
              "0        101348.88       1  \n",
              "1        112542.58       0  \n",
              "2        113931.57       1  \n",
              "3         93826.63       0  \n",
              "4         79084.10       0  "
            ],
            "text/html": [
              "\n",
              "  <div id=\"df-5dee92a1-7130-4d6a-aab0-b2c80f63d52f\">\n",
              "    <div class=\"colab-df-container\">\n",
              "      <div>\n",
              "<style scoped>\n",
              "    .dataframe tbody tr th:only-of-type {\n",
              "        vertical-align: middle;\n",
              "    }\n",
              "\n",
              "    .dataframe tbody tr th {\n",
              "        vertical-align: top;\n",
              "    }\n",
              "\n",
              "    .dataframe thead th {\n",
              "        text-align: right;\n",
              "    }\n",
              "</style>\n",
              "<table border=\"1\" class=\"dataframe\">\n",
              "  <thead>\n",
              "    <tr style=\"text-align: right;\">\n",
              "      <th></th>\n",
              "      <th>RowNumber</th>\n",
              "      <th>CustomerId</th>\n",
              "      <th>Surname</th>\n",
              "      <th>CreditScore</th>\n",
              "      <th>Geography</th>\n",
              "      <th>Gender</th>\n",
              "      <th>Age</th>\n",
              "      <th>Tenure</th>\n",
              "      <th>Balance</th>\n",
              "      <th>NumOfProducts</th>\n",
              "      <th>HasCrCard</th>\n",
              "      <th>IsActiveMember</th>\n",
              "      <th>EstimatedSalary</th>\n",
              "      <th>Exited</th>\n",
              "    </tr>\n",
              "  </thead>\n",
              "  <tbody>\n",
              "    <tr>\n",
              "      <th>0</th>\n",
              "      <td>1</td>\n",
              "      <td>15634602</td>\n",
              "      <td>Hargrave</td>\n",
              "      <td>619</td>\n",
              "      <td>France</td>\n",
              "      <td>Female</td>\n",
              "      <td>42</td>\n",
              "      <td>2</td>\n",
              "      <td>0.00</td>\n",
              "      <td>1</td>\n",
              "      <td>1</td>\n",
              "      <td>1</td>\n",
              "      <td>101348.88</td>\n",
              "      <td>1</td>\n",
              "    </tr>\n",
              "    <tr>\n",
              "      <th>1</th>\n",
              "      <td>2</td>\n",
              "      <td>15647311</td>\n",
              "      <td>Hill</td>\n",
              "      <td>608</td>\n",
              "      <td>Spain</td>\n",
              "      <td>Female</td>\n",
              "      <td>41</td>\n",
              "      <td>1</td>\n",
              "      <td>83807.86</td>\n",
              "      <td>1</td>\n",
              "      <td>0</td>\n",
              "      <td>1</td>\n",
              "      <td>112542.58</td>\n",
              "      <td>0</td>\n",
              "    </tr>\n",
              "    <tr>\n",
              "      <th>2</th>\n",
              "      <td>3</td>\n",
              "      <td>15619304</td>\n",
              "      <td>Onio</td>\n",
              "      <td>502</td>\n",
              "      <td>France</td>\n",
              "      <td>Female</td>\n",
              "      <td>42</td>\n",
              "      <td>8</td>\n",
              "      <td>159660.80</td>\n",
              "      <td>3</td>\n",
              "      <td>1</td>\n",
              "      <td>0</td>\n",
              "      <td>113931.57</td>\n",
              "      <td>1</td>\n",
              "    </tr>\n",
              "    <tr>\n",
              "      <th>3</th>\n",
              "      <td>4</td>\n",
              "      <td>15701354</td>\n",
              "      <td>Boni</td>\n",
              "      <td>699</td>\n",
              "      <td>France</td>\n",
              "      <td>Female</td>\n",
              "      <td>39</td>\n",
              "      <td>1</td>\n",
              "      <td>0.00</td>\n",
              "      <td>2</td>\n",
              "      <td>0</td>\n",
              "      <td>0</td>\n",
              "      <td>93826.63</td>\n",
              "      <td>0</td>\n",
              "    </tr>\n",
              "    <tr>\n",
              "      <th>4</th>\n",
              "      <td>5</td>\n",
              "      <td>15737888</td>\n",
              "      <td>Mitchell</td>\n",
              "      <td>850</td>\n",
              "      <td>Spain</td>\n",
              "      <td>Female</td>\n",
              "      <td>43</td>\n",
              "      <td>2</td>\n",
              "      <td>125510.82</td>\n",
              "      <td>1</td>\n",
              "      <td>1</td>\n",
              "      <td>1</td>\n",
              "      <td>79084.10</td>\n",
              "      <td>0</td>\n",
              "    </tr>\n",
              "  </tbody>\n",
              "</table>\n",
              "</div>\n",
              "      <button class=\"colab-df-convert\" onclick=\"convertToInteractive('df-5dee92a1-7130-4d6a-aab0-b2c80f63d52f')\"\n",
              "              title=\"Convert this dataframe to an interactive table.\"\n",
              "              style=\"display:none;\">\n",
              "        \n",
              "  <svg xmlns=\"http://www.w3.org/2000/svg\" height=\"24px\"viewBox=\"0 0 24 24\"\n",
              "       width=\"24px\">\n",
              "    <path d=\"M0 0h24v24H0V0z\" fill=\"none\"/>\n",
              "    <path d=\"M18.56 5.44l.94 2.06.94-2.06 2.06-.94-2.06-.94-.94-2.06-.94 2.06-2.06.94zm-11 1L8.5 8.5l.94-2.06 2.06-.94-2.06-.94L8.5 2.5l-.94 2.06-2.06.94zm10 10l.94 2.06.94-2.06 2.06-.94-2.06-.94-.94-2.06-.94 2.06-2.06.94z\"/><path d=\"M17.41 7.96l-1.37-1.37c-.4-.4-.92-.59-1.43-.59-.52 0-1.04.2-1.43.59L10.3 9.45l-7.72 7.72c-.78.78-.78 2.05 0 2.83L4 21.41c.39.39.9.59 1.41.59.51 0 1.02-.2 1.41-.59l7.78-7.78 2.81-2.81c.8-.78.8-2.07 0-2.86zM5.41 20L4 18.59l7.72-7.72 1.47 1.35L5.41 20z\"/>\n",
              "  </svg>\n",
              "      </button>\n",
              "      \n",
              "  <style>\n",
              "    .colab-df-container {\n",
              "      display:flex;\n",
              "      flex-wrap:wrap;\n",
              "      gap: 12px;\n",
              "    }\n",
              "\n",
              "    .colab-df-convert {\n",
              "      background-color: #E8F0FE;\n",
              "      border: none;\n",
              "      border-radius: 50%;\n",
              "      cursor: pointer;\n",
              "      display: none;\n",
              "      fill: #1967D2;\n",
              "      height: 32px;\n",
              "      padding: 0 0 0 0;\n",
              "      width: 32px;\n",
              "    }\n",
              "\n",
              "    .colab-df-convert:hover {\n",
              "      background-color: #E2EBFA;\n",
              "      box-shadow: 0px 1px 2px rgba(60, 64, 67, 0.3), 0px 1px 3px 1px rgba(60, 64, 67, 0.15);\n",
              "      fill: #174EA6;\n",
              "    }\n",
              "\n",
              "    [theme=dark] .colab-df-convert {\n",
              "      background-color: #3B4455;\n",
              "      fill: #D2E3FC;\n",
              "    }\n",
              "\n",
              "    [theme=dark] .colab-df-convert:hover {\n",
              "      background-color: #434B5C;\n",
              "      box-shadow: 0px 1px 3px 1px rgba(0, 0, 0, 0.15);\n",
              "      filter: drop-shadow(0px 1px 2px rgba(0, 0, 0, 0.3));\n",
              "      fill: #FFFFFF;\n",
              "    }\n",
              "  </style>\n",
              "\n",
              "      <script>\n",
              "        const buttonEl =\n",
              "          document.querySelector('#df-5dee92a1-7130-4d6a-aab0-b2c80f63d52f button.colab-df-convert');\n",
              "        buttonEl.style.display =\n",
              "          google.colab.kernel.accessAllowed ? 'block' : 'none';\n",
              "\n",
              "        async function convertToInteractive(key) {\n",
              "          const element = document.querySelector('#df-5dee92a1-7130-4d6a-aab0-b2c80f63d52f');\n",
              "          const dataTable =\n",
              "            await google.colab.kernel.invokeFunction('convertToInteractive',\n",
              "                                                     [key], {});\n",
              "          if (!dataTable) return;\n",
              "\n",
              "          const docLinkHtml = 'Like what you see? Visit the ' +\n",
              "            '<a target=\"_blank\" href=https://colab.research.google.com/notebooks/data_table.ipynb>data table notebook</a>'\n",
              "            + ' to learn more about interactive tables.';\n",
              "          element.innerHTML = '';\n",
              "          dataTable['output_type'] = 'display_data';\n",
              "          await google.colab.output.renderOutput(dataTable, element);\n",
              "          const docLink = document.createElement('div');\n",
              "          docLink.innerHTML = docLinkHtml;\n",
              "          element.appendChild(docLink);\n",
              "        }\n",
              "      </script>\n",
              "    </div>\n",
              "  </div>\n",
              "  "
            ]
          },
          "metadata": {},
          "execution_count": 2
        }
      ]
    },
    {
      "cell_type": "code",
      "source": [
        "X = dataset.iloc[:,3:13]\n",
        "y = dataset.iloc[:,13]"
      ],
      "metadata": {
        "id": "US5VuZtT6LWf"
      },
      "execution_count": 3,
      "outputs": []
    },
    {
      "cell_type": "code",
      "source": [
        "geography  = pd.get_dummies(X[\"Geography\"],drop_first= True)\n",
        "gender = pd.get_dummies(X['Gender'],drop_first = True)\n",
        "\n",
        "\n"
      ],
      "metadata": {
        "id": "YQwptuyX6qtd"
      },
      "execution_count": 4,
      "outputs": []
    },
    {
      "cell_type": "code",
      "source": [
        "X = pd.concat([X, geography,gender],axis=1)"
      ],
      "metadata": {
        "id": "mwN_Rnv47e_1"
      },
      "execution_count": 5,
      "outputs": []
    },
    {
      "cell_type": "code",
      "source": [
        "X = X.drop(['Geography',\"Gender\"], axis =  1)\n"
      ],
      "metadata": {
        "id": "XcF9ZPwP7pSI"
      },
      "execution_count": 6,
      "outputs": []
    },
    {
      "cell_type": "code",
      "source": [
        "from sklearn.model_selection import train_test_split\n",
        "X_train,X_test,y_train,y_test = train_test_split(X,y,test_size = 0.2, random_state = 0)"
      ],
      "metadata": {
        "id": "Od0AngGm79bj"
      },
      "execution_count": 7,
      "outputs": []
    },
    {
      "cell_type": "code",
      "source": [
        "from sklearn.preprocessing import StandardScaler \n",
        "sc = StandardScaler()\n",
        "X_train = sc.fit_transform(X_train)\n"
      ],
      "metadata": {
        "id": "W5FHg_V38bRr"
      },
      "execution_count": 9,
      "outputs": []
    },
    {
      "cell_type": "code",
      "source": [
        "from keras.layers.activation.elu import ELU\n",
        "import keras\n",
        "from keras.models import Sequential\n",
        "from keras.layers import Dense\n",
        "from keras.layers import LeakyReLU,PReLU,ELU\n",
        "from keras.layers import Dropout"
      ],
      "metadata": {
        "id": "2VQszLUc96oA"
      },
      "execution_count": 11,
      "outputs": []
    },
    {
      "cell_type": "code",
      "source": [
        "# Initialising  the ANN\n",
        "classifier = Sequential()"
      ],
      "metadata": {
        "id": "2dAT34NI-p9O"
      },
      "execution_count": 12,
      "outputs": []
    },
    {
      "cell_type": "code",
      "source": [
        "# adding the first hidden layer\n",
        "classifier.add(Dense(units = 6 , kernel_initializer= 'he_uniform',activation = 'relu',input_dim = 11))"
      ],
      "metadata": {
        "id": "YPg8huc4AmGI"
      },
      "execution_count": 19,
      "outputs": []
    },
    {
      "cell_type": "code",
      "source": [
        "#adding the second layer\n",
        "classifier.add(Dense(units = 6, kernel_initializer = 'he_uniform', activation = 'relu'))"
      ],
      "metadata": {
        "id": "wh8o4O2CBZAu"
      },
      "execution_count": 20,
      "outputs": []
    },
    {
      "cell_type": "code",
      "source": [
        "#adding the third layer\n",
        "classifier.add(Dense(units = 1 , kernel_initializer = 'glorot_uniform', activation = 'sigmoid'))"
      ],
      "metadata": {
        "id": "HudDIhxuE2Nn"
      },
      "execution_count": 21,
      "outputs": []
    },
    {
      "cell_type": "code",
      "source": [
        "classifier.summary()"
      ],
      "metadata": {
        "colab": {
          "base_uri": "https://localhost:8080/"
        },
        "id": "mtLRGrxmFSQO",
        "outputId": "12813e45-3cbb-4482-dd46-5992afc5610d"
      },
      "execution_count": 22,
      "outputs": [
        {
          "output_type": "stream",
          "name": "stdout",
          "text": [
            "Model: \"sequential\"\n",
            "_________________________________________________________________\n",
            " Layer (type)                Output Shape              Param #   \n",
            "=================================================================\n",
            " dense (Dense)               (None, 6)                 72        \n",
            "                                                                 \n",
            " dense_1 (Dense)             (None, 6)                 42        \n",
            "                                                                 \n",
            " dense_2 (Dense)             (None, 1)                 7         \n",
            "                                                                 \n",
            "=================================================================\n",
            "Total params: 121\n",
            "Trainable params: 121\n",
            "Non-trainable params: 0\n",
            "_________________________________________________________________\n"
          ]
        }
      ]
    },
    {
      "cell_type": "code",
      "source": [
        "#compiling the ANN\n",
        "classifier.compile(optimizer = 'adam',loss  = 'binary_crossentropy', metrics = ['accuracy'])"
      ],
      "metadata": {
        "id": "YN1DaDwQFfgg"
      },
      "execution_count": 24,
      "outputs": []
    },
    {
      "cell_type": "code",
      "source": [
        "model_history=classifier.fit(X_train, y_train,validation_split=0.33, batch_size = 10, epochs = 100)"
      ],
      "metadata": {
        "colab": {
          "base_uri": "https://localhost:8080/"
        },
        "id": "Hjr6iedSHOfF",
        "outputId": "92bbf0ac-40d9-4ee8-a6b5-42dbec65ffda"
      },
      "execution_count": 27,
      "outputs": [
        {
          "output_type": "stream",
          "name": "stdout",
          "text": [
            "Epoch 1/100\n",
            "536/536 [==============================] - 2s 3ms/step - loss: 0.6683 - accuracy: 0.6453 - val_loss: 0.5055 - val_accuracy: 0.7948\n",
            "Epoch 2/100\n",
            "536/536 [==============================] - 1s 2ms/step - loss: 0.4875 - accuracy: 0.7959 - val_loss: 0.4755 - val_accuracy: 0.7955\n",
            "Epoch 3/100\n",
            "536/536 [==============================] - 1s 2ms/step - loss: 0.4628 - accuracy: 0.7977 - val_loss: 0.4558 - val_accuracy: 0.7993\n",
            "Epoch 4/100\n",
            "536/536 [==============================] - 1s 2ms/step - loss: 0.4443 - accuracy: 0.8026 - val_loss: 0.4422 - val_accuracy: 0.8020\n",
            "Epoch 5/100\n",
            "536/536 [==============================] - 1s 2ms/step - loss: 0.4319 - accuracy: 0.8115 - val_loss: 0.4353 - val_accuracy: 0.8099\n",
            "Epoch 6/100\n",
            "536/536 [==============================] - 1s 2ms/step - loss: 0.4250 - accuracy: 0.8149 - val_loss: 0.4304 - val_accuracy: 0.8107\n",
            "Epoch 7/100\n",
            "536/536 [==============================] - 1s 2ms/step - loss: 0.4200 - accuracy: 0.8177 - val_loss: 0.4278 - val_accuracy: 0.8114\n",
            "Epoch 8/100\n",
            "536/536 [==============================] - 1s 2ms/step - loss: 0.4161 - accuracy: 0.8203 - val_loss: 0.4252 - val_accuracy: 0.8118\n",
            "Epoch 9/100\n",
            "536/536 [==============================] - 2s 3ms/step - loss: 0.4123 - accuracy: 0.8233 - val_loss: 0.4220 - val_accuracy: 0.8103\n",
            "Epoch 10/100\n",
            "536/536 [==============================] - 1s 2ms/step - loss: 0.4089 - accuracy: 0.8281 - val_loss: 0.4182 - val_accuracy: 0.8133\n",
            "Epoch 11/100\n",
            "536/536 [==============================] - 1s 2ms/step - loss: 0.4046 - accuracy: 0.8322 - val_loss: 0.4155 - val_accuracy: 0.8145\n",
            "Epoch 12/100\n",
            "536/536 [==============================] - 1s 2ms/step - loss: 0.4010 - accuracy: 0.8347 - val_loss: 0.4127 - val_accuracy: 0.8164\n",
            "Epoch 13/100\n",
            "536/536 [==============================] - 1s 2ms/step - loss: 0.3964 - accuracy: 0.8386 - val_loss: 0.4066 - val_accuracy: 0.8254\n",
            "Epoch 14/100\n",
            "536/536 [==============================] - 1s 2ms/step - loss: 0.3919 - accuracy: 0.8410 - val_loss: 0.4036 - val_accuracy: 0.8232\n",
            "Epoch 15/100\n",
            "536/536 [==============================] - 1s 2ms/step - loss: 0.3878 - accuracy: 0.8388 - val_loss: 0.4014 - val_accuracy: 0.8247\n",
            "Epoch 16/100\n",
            "536/536 [==============================] - 1s 2ms/step - loss: 0.3838 - accuracy: 0.8412 - val_loss: 0.4022 - val_accuracy: 0.8277\n",
            "Epoch 17/100\n",
            "536/536 [==============================] - 1s 2ms/step - loss: 0.3825 - accuracy: 0.8405 - val_loss: 0.3995 - val_accuracy: 0.8258\n",
            "Epoch 18/100\n",
            "536/536 [==============================] - 1s 2ms/step - loss: 0.3803 - accuracy: 0.8406 - val_loss: 0.3963 - val_accuracy: 0.8296\n",
            "Epoch 19/100\n",
            "536/536 [==============================] - 1s 2ms/step - loss: 0.3777 - accuracy: 0.8423 - val_loss: 0.3939 - val_accuracy: 0.8292\n",
            "Epoch 20/100\n",
            "536/536 [==============================] - 1s 2ms/step - loss: 0.3764 - accuracy: 0.8408 - val_loss: 0.3938 - val_accuracy: 0.8285\n",
            "Epoch 21/100\n",
            "536/536 [==============================] - 1s 2ms/step - loss: 0.3747 - accuracy: 0.8423 - val_loss: 0.3936 - val_accuracy: 0.8292\n",
            "Epoch 22/100\n",
            "536/536 [==============================] - 1s 2ms/step - loss: 0.3735 - accuracy: 0.8431 - val_loss: 0.3920 - val_accuracy: 0.8304\n",
            "Epoch 23/100\n",
            "536/536 [==============================] - 1s 2ms/step - loss: 0.3721 - accuracy: 0.8440 - val_loss: 0.3905 - val_accuracy: 0.8292\n",
            "Epoch 24/100\n",
            "536/536 [==============================] - 1s 2ms/step - loss: 0.3701 - accuracy: 0.8457 - val_loss: 0.3911 - val_accuracy: 0.8315\n",
            "Epoch 25/100\n",
            "536/536 [==============================] - 1s 2ms/step - loss: 0.3690 - accuracy: 0.8440 - val_loss: 0.3890 - val_accuracy: 0.8292\n",
            "Epoch 26/100\n",
            "536/536 [==============================] - 1s 2ms/step - loss: 0.3677 - accuracy: 0.8440 - val_loss: 0.3883 - val_accuracy: 0.8311\n",
            "Epoch 27/100\n",
            "536/536 [==============================] - 1s 2ms/step - loss: 0.3664 - accuracy: 0.8461 - val_loss: 0.3871 - val_accuracy: 0.8304\n",
            "Epoch 28/100\n",
            "536/536 [==============================] - 1s 2ms/step - loss: 0.3644 - accuracy: 0.8479 - val_loss: 0.3844 - val_accuracy: 0.8342\n",
            "Epoch 29/100\n",
            "536/536 [==============================] - 1s 2ms/step - loss: 0.3623 - accuracy: 0.8453 - val_loss: 0.3853 - val_accuracy: 0.8319\n",
            "Epoch 30/100\n",
            "536/536 [==============================] - 1s 2ms/step - loss: 0.3617 - accuracy: 0.8459 - val_loss: 0.3823 - val_accuracy: 0.8334\n",
            "Epoch 31/100\n",
            "536/536 [==============================] - 1s 2ms/step - loss: 0.3596 - accuracy: 0.8490 - val_loss: 0.3822 - val_accuracy: 0.8315\n",
            "Epoch 32/100\n",
            "536/536 [==============================] - 1s 2ms/step - loss: 0.3588 - accuracy: 0.8457 - val_loss: 0.3816 - val_accuracy: 0.8319\n",
            "Epoch 33/100\n",
            "536/536 [==============================] - 1s 2ms/step - loss: 0.3580 - accuracy: 0.8472 - val_loss: 0.3812 - val_accuracy: 0.8338\n",
            "Epoch 34/100\n",
            "536/536 [==============================] - 1s 2ms/step - loss: 0.3573 - accuracy: 0.8468 - val_loss: 0.3792 - val_accuracy: 0.8353\n",
            "Epoch 35/100\n",
            "536/536 [==============================] - 1s 2ms/step - loss: 0.3562 - accuracy: 0.8475 - val_loss: 0.3787 - val_accuracy: 0.8357\n",
            "Epoch 36/100\n",
            "536/536 [==============================] - 1s 2ms/step - loss: 0.3557 - accuracy: 0.8483 - val_loss: 0.3795 - val_accuracy: 0.8338\n",
            "Epoch 37/100\n",
            "536/536 [==============================] - 1s 2ms/step - loss: 0.3547 - accuracy: 0.8474 - val_loss: 0.3798 - val_accuracy: 0.8383\n",
            "Epoch 38/100\n",
            "536/536 [==============================] - 1s 2ms/step - loss: 0.3542 - accuracy: 0.8487 - val_loss: 0.3762 - val_accuracy: 0.8432\n",
            "Epoch 39/100\n",
            "536/536 [==============================] - 1s 2ms/step - loss: 0.3532 - accuracy: 0.8483 - val_loss: 0.3777 - val_accuracy: 0.8387\n",
            "Epoch 40/100\n",
            "536/536 [==============================] - 1s 2ms/step - loss: 0.3525 - accuracy: 0.8494 - val_loss: 0.3764 - val_accuracy: 0.8413\n",
            "Epoch 41/100\n",
            "536/536 [==============================] - 1s 2ms/step - loss: 0.3523 - accuracy: 0.8479 - val_loss: 0.3760 - val_accuracy: 0.8402\n",
            "Epoch 42/100\n",
            "536/536 [==============================] - 1s 2ms/step - loss: 0.3512 - accuracy: 0.8481 - val_loss: 0.3744 - val_accuracy: 0.8436\n",
            "Epoch 43/100\n",
            "536/536 [==============================] - 1s 2ms/step - loss: 0.3504 - accuracy: 0.8511 - val_loss: 0.3751 - val_accuracy: 0.8436\n",
            "Epoch 44/100\n",
            "536/536 [==============================] - 1s 2ms/step - loss: 0.3499 - accuracy: 0.8500 - val_loss: 0.3736 - val_accuracy: 0.8444\n",
            "Epoch 45/100\n",
            "536/536 [==============================] - 1s 2ms/step - loss: 0.3483 - accuracy: 0.8505 - val_loss: 0.3732 - val_accuracy: 0.8448\n",
            "Epoch 46/100\n",
            "536/536 [==============================] - 1s 2ms/step - loss: 0.3483 - accuracy: 0.8500 - val_loss: 0.3746 - val_accuracy: 0.8440\n",
            "Epoch 47/100\n",
            "536/536 [==============================] - 1s 2ms/step - loss: 0.3474 - accuracy: 0.8517 - val_loss: 0.3740 - val_accuracy: 0.8436\n",
            "Epoch 48/100\n",
            "536/536 [==============================] - 1s 2ms/step - loss: 0.3464 - accuracy: 0.8526 - val_loss: 0.3770 - val_accuracy: 0.8440\n",
            "Epoch 49/100\n",
            "536/536 [==============================] - 1s 2ms/step - loss: 0.3466 - accuracy: 0.8518 - val_loss: 0.3730 - val_accuracy: 0.8455\n",
            "Epoch 50/100\n",
            "536/536 [==============================] - 1s 2ms/step - loss: 0.3451 - accuracy: 0.8531 - val_loss: 0.3716 - val_accuracy: 0.8497\n",
            "Epoch 51/100\n",
            "536/536 [==============================] - 1s 2ms/step - loss: 0.3446 - accuracy: 0.8552 - val_loss: 0.3735 - val_accuracy: 0.8451\n",
            "Epoch 52/100\n",
            "536/536 [==============================] - 1s 2ms/step - loss: 0.3442 - accuracy: 0.8554 - val_loss: 0.3714 - val_accuracy: 0.8474\n",
            "Epoch 53/100\n",
            "536/536 [==============================] - 1s 2ms/step - loss: 0.3429 - accuracy: 0.8561 - val_loss: 0.3716 - val_accuracy: 0.8501\n",
            "Epoch 54/100\n",
            "536/536 [==============================] - 1s 2ms/step - loss: 0.3424 - accuracy: 0.8556 - val_loss: 0.3701 - val_accuracy: 0.8493\n",
            "Epoch 55/100\n",
            "536/536 [==============================] - 1s 2ms/step - loss: 0.3416 - accuracy: 0.8559 - val_loss: 0.3696 - val_accuracy: 0.8504\n",
            "Epoch 56/100\n",
            "536/536 [==============================] - 1s 2ms/step - loss: 0.3406 - accuracy: 0.8561 - val_loss: 0.3682 - val_accuracy: 0.8527\n",
            "Epoch 57/100\n",
            "536/536 [==============================] - 1s 2ms/step - loss: 0.3402 - accuracy: 0.8572 - val_loss: 0.3685 - val_accuracy: 0.8504\n",
            "Epoch 58/100\n",
            "536/536 [==============================] - 1s 2ms/step - loss: 0.3394 - accuracy: 0.8569 - val_loss: 0.3679 - val_accuracy: 0.8489\n",
            "Epoch 59/100\n",
            "536/536 [==============================] - 2s 3ms/step - loss: 0.3387 - accuracy: 0.8563 - val_loss: 0.3685 - val_accuracy: 0.8493\n",
            "Epoch 60/100\n",
            "536/536 [==============================] - 1s 2ms/step - loss: 0.3382 - accuracy: 0.8580 - val_loss: 0.3681 - val_accuracy: 0.8512\n",
            "Epoch 61/100\n",
            "536/536 [==============================] - 1s 2ms/step - loss: 0.3376 - accuracy: 0.8572 - val_loss: 0.3669 - val_accuracy: 0.8497\n",
            "Epoch 62/100\n",
            "536/536 [==============================] - 1s 2ms/step - loss: 0.3372 - accuracy: 0.8580 - val_loss: 0.3655 - val_accuracy: 0.8523\n",
            "Epoch 63/100\n",
            "536/536 [==============================] - 1s 2ms/step - loss: 0.3362 - accuracy: 0.8578 - val_loss: 0.3652 - val_accuracy: 0.8527\n",
            "Epoch 64/100\n",
            "536/536 [==============================] - 2s 3ms/step - loss: 0.3361 - accuracy: 0.8593 - val_loss: 0.3635 - val_accuracy: 0.8542\n",
            "Epoch 65/100\n",
            "536/536 [==============================] - 1s 2ms/step - loss: 0.3351 - accuracy: 0.8595 - val_loss: 0.3657 - val_accuracy: 0.8527\n",
            "Epoch 66/100\n",
            "536/536 [==============================] - 1s 2ms/step - loss: 0.3348 - accuracy: 0.8600 - val_loss: 0.3672 - val_accuracy: 0.8501\n",
            "Epoch 67/100\n",
            "536/536 [==============================] - 1s 2ms/step - loss: 0.3347 - accuracy: 0.8610 - val_loss: 0.3646 - val_accuracy: 0.8519\n",
            "Epoch 68/100\n",
            "536/536 [==============================] - 1s 2ms/step - loss: 0.3345 - accuracy: 0.8595 - val_loss: 0.3665 - val_accuracy: 0.8516\n",
            "Epoch 69/100\n",
            "536/536 [==============================] - 2s 4ms/step - loss: 0.3341 - accuracy: 0.8623 - val_loss: 0.3645 - val_accuracy: 0.8527\n",
            "Epoch 70/100\n",
            "536/536 [==============================] - 2s 4ms/step - loss: 0.3335 - accuracy: 0.8614 - val_loss: 0.3625 - val_accuracy: 0.8580\n",
            "Epoch 71/100\n",
            "536/536 [==============================] - 2s 3ms/step - loss: 0.3330 - accuracy: 0.8599 - val_loss: 0.3639 - val_accuracy: 0.8538\n",
            "Epoch 72/100\n",
            "536/536 [==============================] - 1s 2ms/step - loss: 0.3321 - accuracy: 0.8634 - val_loss: 0.3663 - val_accuracy: 0.8523\n",
            "Epoch 73/100\n",
            "536/536 [==============================] - 1s 2ms/step - loss: 0.3329 - accuracy: 0.8604 - val_loss: 0.3635 - val_accuracy: 0.8557\n",
            "Epoch 74/100\n",
            "536/536 [==============================] - 1s 2ms/step - loss: 0.3323 - accuracy: 0.8621 - val_loss: 0.3631 - val_accuracy: 0.8546\n",
            "Epoch 75/100\n",
            "536/536 [==============================] - 1s 2ms/step - loss: 0.3319 - accuracy: 0.8634 - val_loss: 0.3630 - val_accuracy: 0.8550\n",
            "Epoch 76/100\n",
            "536/536 [==============================] - 1s 2ms/step - loss: 0.3307 - accuracy: 0.8612 - val_loss: 0.3639 - val_accuracy: 0.8531\n",
            "Epoch 77/100\n",
            "536/536 [==============================] - 1s 2ms/step - loss: 0.3309 - accuracy: 0.8627 - val_loss: 0.3626 - val_accuracy: 0.8557\n",
            "Epoch 78/100\n",
            "536/536 [==============================] - 1s 2ms/step - loss: 0.3311 - accuracy: 0.8640 - val_loss: 0.3652 - val_accuracy: 0.8561\n",
            "Epoch 79/100\n",
            "536/536 [==============================] - 1s 2ms/step - loss: 0.3308 - accuracy: 0.8612 - val_loss: 0.3623 - val_accuracy: 0.8550\n",
            "Epoch 80/100\n",
            "536/536 [==============================] - 1s 2ms/step - loss: 0.3299 - accuracy: 0.8632 - val_loss: 0.3630 - val_accuracy: 0.8588\n",
            "Epoch 81/100\n",
            "536/536 [==============================] - 1s 2ms/step - loss: 0.3291 - accuracy: 0.8619 - val_loss: 0.3666 - val_accuracy: 0.8523\n",
            "Epoch 82/100\n",
            "536/536 [==============================] - 1s 2ms/step - loss: 0.3297 - accuracy: 0.8623 - val_loss: 0.3632 - val_accuracy: 0.8573\n",
            "Epoch 83/100\n",
            "536/536 [==============================] - 1s 2ms/step - loss: 0.3296 - accuracy: 0.8640 - val_loss: 0.3630 - val_accuracy: 0.8573\n",
            "Epoch 84/100\n",
            "536/536 [==============================] - 1s 2ms/step - loss: 0.3297 - accuracy: 0.8614 - val_loss: 0.3649 - val_accuracy: 0.8531\n",
            "Epoch 85/100\n",
            "536/536 [==============================] - 1s 2ms/step - loss: 0.3295 - accuracy: 0.8621 - val_loss: 0.3635 - val_accuracy: 0.8550\n",
            "Epoch 86/100\n",
            "536/536 [==============================] - 1s 2ms/step - loss: 0.3295 - accuracy: 0.8625 - val_loss: 0.3613 - val_accuracy: 0.8561\n",
            "Epoch 87/100\n",
            "536/536 [==============================] - 1s 2ms/step - loss: 0.3282 - accuracy: 0.8619 - val_loss: 0.3619 - val_accuracy: 0.8565\n",
            "Epoch 88/100\n",
            "536/536 [==============================] - 1s 2ms/step - loss: 0.3289 - accuracy: 0.8625 - val_loss: 0.3623 - val_accuracy: 0.8542\n",
            "Epoch 89/100\n",
            "536/536 [==============================] - 1s 2ms/step - loss: 0.3286 - accuracy: 0.8615 - val_loss: 0.3634 - val_accuracy: 0.8542\n",
            "Epoch 90/100\n",
            "536/536 [==============================] - 1s 2ms/step - loss: 0.3287 - accuracy: 0.8636 - val_loss: 0.3653 - val_accuracy: 0.8512\n",
            "Epoch 91/100\n",
            "536/536 [==============================] - 1s 2ms/step - loss: 0.3286 - accuracy: 0.8614 - val_loss: 0.3629 - val_accuracy: 0.8554\n",
            "Epoch 92/100\n",
            "536/536 [==============================] - 2s 3ms/step - loss: 0.3276 - accuracy: 0.8621 - val_loss: 0.3625 - val_accuracy: 0.8565\n",
            "Epoch 93/100\n",
            "536/536 [==============================] - 1s 2ms/step - loss: 0.3282 - accuracy: 0.8612 - val_loss: 0.3622 - val_accuracy: 0.8546\n",
            "Epoch 94/100\n",
            "536/536 [==============================] - 1s 2ms/step - loss: 0.3273 - accuracy: 0.8628 - val_loss: 0.3658 - val_accuracy: 0.8470\n",
            "Epoch 95/100\n",
            "536/536 [==============================] - 1s 2ms/step - loss: 0.3274 - accuracy: 0.8614 - val_loss: 0.3637 - val_accuracy: 0.8546\n",
            "Epoch 96/100\n",
            "536/536 [==============================] - 1s 2ms/step - loss: 0.3268 - accuracy: 0.8640 - val_loss: 0.3630 - val_accuracy: 0.8542\n",
            "Epoch 97/100\n",
            "536/536 [==============================] - 1s 2ms/step - loss: 0.3264 - accuracy: 0.8623 - val_loss: 0.3630 - val_accuracy: 0.8519\n",
            "Epoch 98/100\n",
            "536/536 [==============================] - 1s 2ms/step - loss: 0.3267 - accuracy: 0.8612 - val_loss: 0.3621 - val_accuracy: 0.8531\n",
            "Epoch 99/100\n",
            "536/536 [==============================] - 1s 2ms/step - loss: 0.3261 - accuracy: 0.8649 - val_loss: 0.3616 - val_accuracy: 0.8531\n",
            "Epoch 100/100\n",
            "536/536 [==============================] - 1s 2ms/step - loss: 0.3262 - accuracy: 0.8628 - val_loss: 0.3627 - val_accuracy: 0.8535\n"
          ]
        }
      ]
    },
    {
      "cell_type": "code",
      "source": [
        "#predicting the Test set result\n",
        "y_pred = classifier.predict(X_test)\n",
        "y_pred  = (y_pred > 0.5)\n",
        " "
      ],
      "metadata": {
        "colab": {
          "base_uri": "https://localhost:8080/"
        },
        "id": "XFtTdHAMPFzr",
        "outputId": "b697c217-8891-4e7c-8385-be3dd2894083"
      },
      "execution_count": 33,
      "outputs": [
        {
          "output_type": "stream",
          "name": "stdout",
          "text": [
            "63/63 [==============================] - 0s 1ms/step\n"
          ]
        }
      ]
    },
    {
      "cell_type": "code",
      "source": [
        "from sklearn.metrics import confusion_matrix"
      ],
      "metadata": {
        "id": "ECFfYJlMPtdN"
      },
      "execution_count": 34,
      "outputs": []
    },
    {
      "cell_type": "code",
      "source": [
        "cm = confusion_matrix(y_test,y_pred)\n",
        "cm"
      ],
      "metadata": {
        "colab": {
          "base_uri": "https://localhost:8080/"
        },
        "id": "2IPznVJePt6m",
        "outputId": "11e26f03-4a4e-4c98-f262-6a38456f596d"
      },
      "execution_count": 39,
      "outputs": [
        {
          "output_type": "execute_result",
          "data": {
            "text/plain": [
              "array([[1560,   35],\n",
              "       [ 401,    4]])"
            ]
          },
          "metadata": {},
          "execution_count": 39
        }
      ]
    },
    {
      "cell_type": "code",
      "source": [
        "from sklearn.metrics import accuracy_score\n",
        "acore = accuracy_score(y_pred,y_test)"
      ],
      "metadata": {
        "id": "-vlEDCTvPuGo"
      },
      "execution_count": 36,
      "outputs": []
    },
    {
      "cell_type": "code",
      "source": [
        "# list all data in history\n",
        "\n",
        "print(model_history.history.keys())"
      ],
      "metadata": {
        "colab": {
          "base_uri": "https://localhost:8080/"
        },
        "id": "dLhVlrupJVTu",
        "outputId": "035a23c4-889a-4050-c044-6abe3abf7993"
      },
      "execution_count": 28,
      "outputs": [
        {
          "output_type": "stream",
          "name": "stdout",
          "text": [
            "dict_keys(['loss', 'accuracy', 'val_loss', 'val_accuracy'])\n"
          ]
        }
      ]
    },
    {
      "cell_type": "code",
      "source": [
        "plt.plot(model_history.history['accuracy'])\n",
        "plt.plot(model_history.history['val_accuracy'])\n",
        "plt.title('model accuracy')\n",
        "plt.ylabel('accuracy')\n",
        "plt.xlabel('epoch')\n",
        "plt.legend(['train', 'test'], loc='upper left')\n",
        "plt.show()"
      ],
      "metadata": {
        "colab": {
          "base_uri": "https://localhost:8080/",
          "height": 295
        },
        "id": "mSj0Y_pKMj6J",
        "outputId": "7db51412-f9af-4768-f242-fa8394ec27b5"
      },
      "execution_count": 31,
      "outputs": [
        {
          "output_type": "display_data",
          "data": {
            "text/plain": [
              "<Figure size 432x288 with 1 Axes>"
            ],
            "image/png": "[encoded data removed]"
          },
          "metadata": {
            "needs_background": "light"
          }
        }
      ]
    },
    {
      "cell_type": "code",
      "source": [
        "# summarize history for loss\n",
        "plt.plot(model_history.history['loss'])\n",
        "plt.plot(model_history.history['val_loss'])\n",
        "plt.title('model loss')\n",
        "plt.ylabel('loss')\n",
        "plt.xlabel('epoch')\n",
        "plt.legend(['train', 'test'], loc='upper left')\n",
        "plt.show()"
      ],
      "metadata": {
        "colab": {
          "base_uri": "https://localhost:8080/",
          "height": 295
        },
        "id": "8ssCQHKzNYrH",
        "outputId": "ae871f0f-f710-4555-af9c-565546d8fe94"
      },
      "execution_count": 32,
      "outputs": [
        {
          "output_type": "display_data",
          "data": {
            "text/plain": [
              "<Figure size 432x288 with 1 Axes>"
            ],
            "image/png": "[encoded data removed]"
          },
          "metadata": {
            "needs_background": "light"
          }
        }
      ]
    }
  ]
}